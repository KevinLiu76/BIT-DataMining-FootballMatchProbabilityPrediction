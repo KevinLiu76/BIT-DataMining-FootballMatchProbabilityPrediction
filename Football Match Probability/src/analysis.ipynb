{
 "cells": [
  {
   "cell_type": "code",
   "execution_count": 1,
   "id": "14fa1df0",
   "metadata": {},
   "outputs": [],
   "source": [
    "import pandas as pd"
   ]
  },
  {
   "cell_type": "code",
   "execution_count": 2,
   "id": "753ffd36-7ffa-4604-bc62-96888b28fd95",
   "metadata": {},
   "outputs": [],
   "source": [
    "data=pd.read_csv(\"X_train.csv\")\n",
    "\n"
   ]
  },
  {
   "cell_type": "code",
   "execution_count": 3,
   "id": "066da684-5640-44be-b72f-0da5f52169ac",
   "metadata": {},
   "outputs": [
    {
     "name": "stdout",
     "output_type": "stream",
     "text": [
      "Index(['id', 'league_name', 'target_int', 'home_team_history_is_play_home_1',\n",
      "       'home_team_history_is_play_home_2', 'home_team_history_is_play_home_3',\n",
      "       'home_team_history_is_play_home_4', 'home_team_history_is_play_home_5',\n",
      "       'home_team_history_is_play_home_6', 'home_team_history_is_play_home_7',\n",
      "       ...\n",
      "       'home_team_history_match_days_ago_6',\n",
      "       'away_team_history_match_days_ago_6',\n",
      "       'home_team_history_match_days_ago_7',\n",
      "       'away_team_history_match_days_ago_7',\n",
      "       'home_team_history_match_days_ago_8',\n",
      "       'away_team_history_match_days_ago_8',\n",
      "       'home_team_history_match_days_ago_9',\n",
      "       'away_team_history_match_days_ago_9',\n",
      "       'home_team_history_match_days_ago_10',\n",
      "       'away_team_history_match_days_ago_10'],\n",
      "      dtype='object', length=113)\n"
     ]
    }
   ],
   "source": [
    "print(data.columns)"
   ]
  },
  {
   "cell_type": "code",
   "execution_count": 4,
   "id": "451b0f79-206f-4816-b16d-d2854552969a",
   "metadata": {},
   "outputs": [
    {
     "name": "stdout",
     "output_type": "stream",
     "text": [
      "<class 'pandas.core.frame.DataFrame'>\n",
      "RangeIndex: 88141 entries, 0 to 88140\n",
      "Columns: 113 entries, id to away_team_history_match_days_ago_10\n",
      "dtypes: float64(110), int64(2), object(1)\n",
      "memory usage: 76.0+ MB\n",
      "None\n"
     ]
    }
   ],
   "source": [
    "print(data.info())"
   ]
  },
  {
   "cell_type": "code",
   "execution_count": 19,
   "id": "5421fe92-46ef-4225-9e08-cfef3c548200",
   "metadata": {},
   "outputs": [
    {
     "name": "stdout",
     "output_type": "stream",
     "text": [
      "0         3.0\n",
      "1        -1.0\n",
      "2         2.0\n",
      "3         5.0\n",
      "4         4.0\n",
      "         ... \n",
      "88136    17.0\n",
      "88137     NaN\n",
      "88138     6.0\n",
      "88139    23.0\n",
      "88140     2.0\n",
      "Length: 88141, dtype: float64\n",
      "0         3.0\n",
      "1        -1.0\n",
      "2         2.0\n",
      "3         5.0\n",
      "4         4.0\n",
      "         ... \n",
      "88135    -3.0\n",
      "88136    17.0\n",
      "88138     6.0\n",
      "88139    23.0\n",
      "88140     2.0\n",
      "Length: 76368, dtype: float64\n"
     ]
    }
   ],
   "source": [
    "home_goal_difference=data[\"home_team_history_goal_1\"]+data[\"home_team_history_goal_2\"]+data[\"home_team_history_goal_3\"]+data[\"home_team_history_goal_4\"]+data[\"home_team_history_goal_5\"]\\\n",
    "+data[\"home_team_history_goal_6\"]+data[\"home_team_history_goal_7\"]+data[\"home_team_history_goal_8\"]+data[\"home_team_history_goal_9\"]+data[\"home_team_history_goal_10\"]-data[\"home_team_history_opponent_goal_1\"]\\\n",
    "-data[\"home_team_history_opponent_goal_2\"]-data[\"home_team_history_opponent_goal_3\"]-data[\"home_team_history_opponent_goal_4\"]-data[\"home_team_history_opponent_goal_5\"]-data[\"home_team_history_opponent_goal_6\"]\\\n",
    "-data[\"home_team_history_opponent_goal_7\"]-data[\"home_team_history_opponent_goal_8\"]-data[\"home_team_history_opponent_goal_9\"]-data[\"home_team_history_opponent_goal_10\"]\n",
    "print(home_goal_difference)\n",
    "home_goal_difference=home_goal_difference.dropna(axis=0,how='any')\n",
    "print(home_goal_difference)"
   ]
  },
  {
   "cell_type": "code",
   "execution_count": 20,
   "id": "56bf7fd1-1473-4b0e-9b1c-1f06b604c32d",
   "metadata": {},
   "outputs": [
    {
     "name": "stdout",
     "output_type": "stream",
     "text": [
      "0        False\n",
      "1         True\n",
      "2        False\n",
      "3        False\n",
      "4        False\n",
      "         ...  \n",
      "88135     True\n",
      "88136    False\n",
      "88138    False\n",
      "88139    False\n",
      "88140    False\n",
      "Length: 76368, dtype: bool\n"
     ]
    }
   ],
   "source": [
    "\n",
    "print(home_goal_difference<0)"
   ]
  },
  {
   "cell_type": "code",
   "execution_count": 21,
   "id": "6873a351-36c9-479c-9105-3ed8523ec651",
   "metadata": {},
   "outputs": [
    {
     "name": "stdout",
     "output_type": "stream",
     "text": [
      "0         7.0\n",
      "1        -6.0\n",
      "2        10.0\n",
      "3         4.0\n",
      "4         8.0\n",
      "         ... \n",
      "88136    -4.0\n",
      "88137    12.0\n",
      "88138    -1.0\n",
      "88139     NaN\n",
      "88140    -2.0\n",
      "Length: 88141, dtype: float64\n",
      "0         7.0\n",
      "1        -6.0\n",
      "2        10.0\n",
      "3         4.0\n",
      "4         8.0\n",
      "         ... \n",
      "88135    -3.0\n",
      "88136    -4.0\n",
      "88137    12.0\n",
      "88138    -1.0\n",
      "88140    -2.0\n",
      "Length: 75891, dtype: float64\n"
     ]
    }
   ],
   "source": [
    "away_goal_difference=data[\"away_team_history_goal_1\"]+data[\"away_team_history_goal_2\"]+data[\"away_team_history_goal_3\"]+data[\"away_team_history_goal_4\"]+data[\"away_team_history_goal_5\"]\\\n",
    "+data[\"away_team_history_goal_6\"]+data[\"away_team_history_goal_7\"]+data[\"away_team_history_goal_8\"]+data[\"away_team_history_goal_9\"]+data[\"away_team_history_goal_10\"]\\\n",
    "-data[\"away_team_history_opponent_goal_1\"]-data[\"away_team_history_opponent_goal_2\"]-data[\"away_team_history_opponent_goal_3\"]-data[\"away_team_history_opponent_goal_4\"]-data[\"away_team_history_opponent_goal_5\"]\\\n",
    "-data[\"away_team_history_opponent_goal_6\"]-data[\"away_team_history_opponent_goal_7\"]-data[\"away_team_history_opponent_goal_8\"]-data[\"away_team_history_opponent_goal_9\"]-data[\"away_team_history_opponent_goal_10\"]\n",
    "print(away_goal_difference)\n",
    "away_goal_difference=away_goal_difference.dropna(axis=0,how='any')\n",
    "print(away_goal_difference)"
   ]
  },
  {
   "cell_type": "code",
   "execution_count": 22,
   "id": "6a89c135-2907-45b4-9a9e-78fb7578d99c",
   "metadata": {},
   "outputs": [
    {
     "name": "stdout",
     "output_type": "stream",
     "text": [
      "0        False\n",
      "1         True\n",
      "2        False\n",
      "3        False\n",
      "4        False\n",
      "         ...  \n",
      "88135     True\n",
      "88136     True\n",
      "88137    False\n",
      "88138     True\n",
      "88140     True\n",
      "Length: 75891, dtype: bool\n"
     ]
    }
   ],
   "source": [
    "print(away_goal_difference<0)"
   ]
  },
  {
   "cell_type": "code",
   "execution_count": 23,
   "id": "c86651c7-d2fb-4fbb-8fce-b75dd35cf7b3",
   "metadata": {},
   "outputs": [],
   "source": [
    "\n",
    "import matplotlib.pyplot as plt\n"
   ]
  },
  {
   "cell_type": "code",
   "execution_count": 24,
   "id": "109d89fc-a621-4784-b334-14d30a76ed65",
   "metadata": {},
   "outputs": [
    {
     "data": {
      "image/png": "[encoded data removed]",
      "text/plain": [
       "<Figure size 720x720 with 1 Axes>"
      ]
     },
     "metadata": {},
     "output_type": "display_data"
    },
    {
     "name": "stdout",
     "output_type": "stream",
     "text": [
      "False    38626\n",
      "True     37742\n",
      "dtype: int64\n"
     ]
    }
   ],
   "source": [
    "plt.figure(figsize=(10,10))\n",
    "plt.pie((home_goal_difference>0).value_counts(),labels=[\"False\",\"True\"],autopct='%.2f%%')\n",
    "plt.show()\n",
    "print((home_goal_difference>0).value_counts())"
   ]
  },
  {
   "cell_type": "code",
   "execution_count": 25,
   "id": "05a58e55-48a1-4118-ae35-ff570ff21953",
   "metadata": {},
   "outputs": [
    {
     "data": {
      "image/png": "[encoded data removed]",
      "text/plain": [
       "<Figure size 720x720 with 1 Axes>"
      ]
     },
     "metadata": {},
     "output_type": "display_data"
    },
    {
     "name": "stdout",
     "output_type": "stream",
     "text": [
      "False    37972\n",
      "True     37919\n",
      "dtype: int64\n"
     ]
    }
   ],
   "source": [
    "plt.figure(figsize=(10,10))\n",
    "plt.pie((away_goal_difference>0).value_counts(),labels=[\"False\",\"True\"],autopct='%.2f%%')\n",
    "plt.show()\n",
    "print((away_goal_difference>0).value_counts())"
   ]
  },
  {
   "cell_type": "code",
   "execution_count": null,
   "id": "ebe984c4-962a-468f-85bf-324960c0d32f",
   "metadata": {},
   "outputs": [],
   "source": []
  }
 ],
 "metadata": {
  "kernelspec": {
   "display_name": "Python 3 (ipykernel)",
   "language": "python",
   "name": "python3"
  },
  "language_info": {
   "codemirror_mode": {
    "name": "ipython",
    "version": 3
   },
   "file_extension": ".py",
   "mimetype": "text/x-python",
   "name": "python",
   "nbconvert_exporter": "python",
   "pygments_lexer": "ipython3",
   "version": "3.10.0"
  }
 },
 "nbformat": 4,
 "nbformat_minor": 5
}
