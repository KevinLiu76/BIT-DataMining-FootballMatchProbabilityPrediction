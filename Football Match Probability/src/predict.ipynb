{
 "cells": [
  {
   "cell_type": "code",
   "execution_count": 9,
   "metadata": {},
   "outputs": [
    {
     "name": "stderr",
     "output_type": "stream",
     "text": [
      "2022-04-17 23:22:42.518297: I tensorflow/core/grappler/optimizers/custom_graph_optimizer_registry.cc:113] Plugin optimizer for device_type GPU is enabled.\n",
      "2022-04-17 23:22:43.019732: I tensorflow/core/grappler/optimizers/custom_graph_optimizer_registry.cc:113] Plugin optimizer for device_type GPU is enabled.\n",
      "2022-04-17 23:22:43.076006: I tensorflow/core/grappler/optimizers/custom_graph_optimizer_registry.cc:113] Plugin optimizer for device_type GPU is enabled.\n",
      "2022-04-17 23:22:43.190282: I tensorflow/core/grappler/optimizers/custom_graph_optimizer_registry.cc:113] Plugin optimizer for device_type GPU is enabled.\n",
      "2022-04-17 23:22:43.248274: I tensorflow/core/grappler/optimizers/custom_graph_optimizer_registry.cc:113] Plugin optimizer for device_type GPU is enabled.\n"
     ]
    },
    {
     "data": {
      "image/png": "[encoded data removed]",
      "text/plain": [
       "<Figure size 1296x648 with 1 Axes>"
      ]
     },
     "metadata": {
      "needs_background": "light"
     },
     "output_type": "display_data"
    }
   ],
   "source": [
    "import tensorflow as tf\n",
    "import pandas as pd\n",
    "from data_processing import data_convert\n",
    "from sklearn import preprocessing\n",
    "import matplotlib.pylab as plt\n",
    "\n",
    "mask = -999.0\n",
    "timesteps = 10\n",
    "historical_features = [\n",
    "    # home based\n",
    "    'home_team_history_goal',\n",
    "    'home_team_history_opponent_goal',\n",
    "    'home_team_history_is_play_home', \n",
    "    'home_team_history_rating',\n",
    "    'home_team_history_opponent_rating',\n",
    "    'home_team_history_match_days_ago',\n",
    "        \n",
    "    # away based\n",
    "    'away_team_history_goal', \n",
    "    'away_team_history_opponent_goal',\n",
    "    'away_team_history_rating',\n",
    "    'away_team_history_opponent_rating',\n",
    "    'away_team_history_match_days_ago'\n",
    "] \n",
    "test = pd.read_csv('../data/X_test.csv')\n",
    "features_pattern = '_[0-9]|'.join(historical_features) + '_[0-9]'\n",
    "features_to_preprocess = test.filter(regex=features_pattern, axis=1).columns.tolist()\n",
    "scaler = preprocessing.RobustScaler()\n",
    "X_test_pre = pd.DataFrame(scaler.fit_transform(test[features_to_preprocess]), columns=features_to_preprocess)\n",
    "X_test = pd.concat([test[['id', 'league_name']], X_test_pre], axis=1)\n",
    "X_test = pd.concat([\n",
    "        data_convert(X_test, feature=feature, timesteps=timesteps, mask = mask, historical_features = historical_features) for feature in historical_features\n",
    "    ], axis=1).values.reshape(-1, timesteps, len(historical_features))\n",
    "model = tf.keras.models.load_model('../data/dumps/model.h5')\n",
    "probs_test = model.predict(X_test)\n",
    "results = pd.DataFrame({\n",
    "    'id': test['id'],\n",
    "    'away': probs_test[:, 0],\n",
    "    'draw': probs_test[:, 1],\n",
    "    'home': probs_test[:, 2]\n",
    "})\n",
    "results.iloc[:,1:].plot.hist(alpha=0.5,figsize=(18,9))\n",
    "results.to_csv(\"./results.csv\", index=False, sep=',')\n"
   ]
  }
 ],
 "metadata": {
  "interpreter": {
   "hash": "356d64942e812e3cb641a2ac641c9ca55cc04ba95fffced2ee67151aadf76e35"
  },
  "kernelspec": {
   "display_name": "Python 3.9.12 ('tf2.5')",
   "language": "python",
   "name": "python3"
  },
  "language_info": {
   "codemirror_mode": {
    "name": "ipython",
    "version": 3
   },
   "file_extension": ".py",
   "mimetype": "text/x-python",
   "name": "python",
   "nbconvert_exporter": "python",
   "pygments_lexer": "ipython3",
   "version": "3.9.12"
  },
  "orig_nbformat": 4
 },
 "nbformat": 4,
 "nbformat_minor": 2
}
